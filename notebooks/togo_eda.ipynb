{
 "cells": [
  {
   "cell_type": "code",
   "execution_count": null,
   "metadata": {
    "vscode": {
     "languageId": "plaintext"
    }
   },
   "outputs": [],
   "source": [
    "import pandas as pd\n",
    "from scipy import stats\n",
    "import numpy as np\n",
    "import matplotlib.pyplot as plt\n",
    "import seaborn as sns"
   ]
  },
  {
   "cell_type": "code",
   "execution_count": null,
   "metadata": {
    "vscode": {
     "languageId": "plaintext"
    }
   },
   "outputs": [],
   "source": [
    "df = pd.read_csv('data/togo_raw.csv')"
   ]
  },
  {
   "cell_type": "code",
   "execution_count": null,
   "metadata": {
    "vscode": {
     "languageId": "plaintext"
    }
   },
   "outputs": [],
   "source": [
    "print(df.isna().sum())\n",
    "threshold = len(df) * 0.95\n",
    "df_clean = df.dropna(thresh=threshold, axis=1)\n",
    "df_clean['GHI'] = df_clean['GHI'].fillna(df_clean['GHI'].median())"
   ]
  },
  {
   "cell_type": "code",
   "execution_count": null,
   "metadata": {
    "vscode": {
     "languageId": "plaintext"
    }
   },
   "outputs": [],
   "source": [
    "z_scores = stats.zscore(df_clean[['GHI', 'DNI', 'DHI', 'WS', 'WSgust']])\n",
    "df_clean = df_clean[(np.abs(z_scores) < 3).all(axis=1)]"
   ]
  },
  {
   "cell_type": "code",
   "execution_count": null,
   "metadata": {
    "vscode": {
     "languageId": "plaintext"
    }
   },
   "outputs": [],
   "source": [
    "df_clean['Timestamp'] = pd.to_datetime(df_clean['Timestamp'])\n",
    "df_clean.set_index('Timestamp')['GHI'].plot(title='GHI Over Time in Togo')\n",
    "plt.show()"
   ]
  },
  {
   "cell_type": "code",
   "execution_count": null,
   "metadata": {
    "vscode": {
     "languageId": "plaintext"
    }
   },
   "outputs": [],
   "source": [
    "cleaning_effect = df_clean.groupby('Cleaning')[['ModA', 'ModB']].mean()\n",
    "cleaning_effect.plot(kind='bar', title='Sensor Readings Before/After Cleaning in Togo')\n",
    "plt.show()"
   ]
  },
  {
   "cell_type": "code",
   "execution_count": null,
   "metadata": {
    "vscode": {
     "languageId": "plaintext"
    }
   },
   "outputs": [],
   "source": [
    "corr_matrix = df_clean[['GHI', 'DNI', 'DHI', 'Tamb', 'RH']].corr()\n",
    "sns.heatmap(corr_matrix, annot=True)\n",
    "plt.title('Correlation Matrix for Togo')\n",
    "plt.show()"
   ]
  },
  {
   "cell_type": "code",
   "execution_count": null,
   "metadata": {
    "vscode": {
     "languageId": "plaintext"
    }
   },
   "outputs": [],
   "source": [
    "df_clean.to_csv('data/togo_clean.csv', index=False)"
   ]
  }
 ],
 "metadata": {
  "language_info": {
   "name": "python"
  }
 },
 "nbformat": 4,
 "nbformat_minor": 2
}
